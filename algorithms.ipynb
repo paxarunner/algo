{
 "cells": [
  {
   "cell_type": "code",
   "execution_count": 6,
   "id": "49d73b16",
   "metadata": {},
   "outputs": [],
   "source": [
    "def binarysearch(lst, item):\n",
    "    low = 0\n",
    "    high = len(lst) - 1\n",
    "    \n",
    "    while low <= high:\n",
    "        mid = int((low+high)//2)\n",
    "        guess = lst[mid]\n",
    "        if guess == item:\n",
    "            return mid\n",
    "        if guess < item:\n",
    "            low = mid + 1\n",
    "        else:\n",
    "            high = mid - 1\n",
    "    return 'none'\n"
   ]
  },
  {
   "cell_type": "code",
   "execution_count": 9,
   "id": "654bf013",
   "metadata": {},
   "outputs": [
    {
     "data": {
      "text/plain": [
       "3"
      ]
     },
     "execution_count": 9,
     "metadata": {},
     "output_type": "execute_result"
    }
   ],
   "source": [
    "lst = [1,2,3,4,5,6,7]\n",
    "binarysearch(lst, 4)"
   ]
  },
  {
   "cell_type": "code",
   "execution_count": 148,
   "id": "52160158",
   "metadata": {},
   "outputs": [],
   "source": [
    "# Сортировка списка\n",
    "\n",
    "lst = [56,13,100,1,23,5,12,88]\n",
    "\n",
    "def smallestsearch(lst):\n",
    "    smallest = lst[0]\n",
    "    smallest_index = 0 \n",
    "    for i in range(0, len(lst)):\n",
    "        if lst[i] <= smallest:\n",
    "            smallest = lst[i]\n",
    "            smallest_index = i\n",
    "    return smallest_index\n",
    "\n",
    "def insertsort(lst):\n",
    "    newarr = []\n",
    "    for i in range(len(lst)):\n",
    "        \n",
    "        smallest = smallestsearch(lst)\n",
    "        newarr.append(lst.pop(smallest))\n",
    "            \n",
    "    return newarr"
   ]
  },
  {
   "cell_type": "code",
   "execution_count": 149,
   "id": "88f02ba8",
   "metadata": {},
   "outputs": [
    {
     "data": {
      "text/plain": [
       "[1, 5, 12, 13, 23, 56, 88, 100]"
      ]
     },
     "execution_count": 149,
     "metadata": {},
     "output_type": "execute_result"
    }
   ],
   "source": [
    "insertsort(lst)"
   ]
  },
  {
   "cell_type": "code",
   "execution_count": 111,
   "id": "55db1159",
   "metadata": {},
   "outputs": [],
   "source": [
    "def countdown(i):\n",
    "    print(i, end=' ')\n",
    "    if i >=1:\n",
    "        countdown(i-1)\n",
    "    return"
   ]
  },
  {
   "cell_type": "code",
   "execution_count": 113,
   "id": "92bd297a",
   "metadata": {},
   "outputs": [
    {
     "name": "stdout",
     "output_type": "stream",
     "text": [
      "25 24 23 22 21 20 19 18 17 16 15 14 13 12 11 10 9 8 7 6 5 4 3 2 1 0 "
     ]
    }
   ],
   "source": [
    "countdown(25)"
   ]
  },
  {
   "cell_type": "code",
   "execution_count": 116,
   "id": "b447ad55",
   "metadata": {},
   "outputs": [
    {
     "data": {
      "text/plain": [
       "15"
      ]
     },
     "execution_count": 116,
     "metadata": {},
     "output_type": "execute_result"
    }
   ],
   "source": [
    "# Сумма элементов\n",
    "def summa(lst):\n",
    "    total = 0\n",
    "    for i in lst:\n",
    "        total += i\n",
    "    return total"
   ]
  },
  {
   "cell_type": "code",
   "execution_count": 150,
   "id": "113a97fb",
   "metadata": {},
   "outputs": [],
   "source": [
    "# Количество элементов\n",
    "def count_elem(lst):\n",
    "    count = 0\n",
    "    for i in lst:\n",
    "        count += 1\n",
    "    return count\n"
   ]
  },
  {
   "cell_type": "code",
   "execution_count": 153,
   "id": "1f6c8106",
   "metadata": {},
   "outputs": [],
   "source": [
    "def searchbiggest(lst):\n",
    "    biggest = lst[0]\n",
    "    biggest_index = 0\n",
    "    for i in range(1,count_elem(lst)):\n",
    "        if lst[i] > biggest:\n",
    "            biggest = lst[i]\n",
    "            biggest_index = i\n",
    "    return biggest_index"
   ]
  },
  {
   "cell_type": "code",
   "execution_count": 154,
   "id": "5923b472",
   "metadata": {},
   "outputs": [
    {
     "data": {
      "text/plain": [
       "7"
      ]
     },
     "execution_count": 154,
     "metadata": {},
     "output_type": "execute_result"
    }
   ],
   "source": [
    "searchbiggest([1,2,3,6,9,23,21,100])"
   ]
  },
  {
   "cell_type": "code",
   "execution_count": 214,
   "id": "e1e0bba1",
   "metadata": {},
   "outputs": [],
   "source": [
    "# Количество элементов через рекурсию\n",
    "\n",
    "def count(lst):\n",
    "    if lst == []:\n",
    "        return 0\n",
    "    return 1 + count(lst[1:])"
   ]
  },
  {
   "cell_type": "code",
   "execution_count": 217,
   "id": "0cc47a36",
   "metadata": {},
   "outputs": [
    {
     "data": {
      "text/plain": [
       "7"
      ]
     },
     "execution_count": 217,
     "metadata": {},
     "output_type": "execute_result"
    }
   ],
   "source": [
    "count([4,6,8,1,23,4,87,])"
   ]
  },
  {
   "cell_type": "code",
   "execution_count": 1,
   "id": "64e9cc9b",
   "metadata": {},
   "outputs": [],
   "source": [
    "# Сумма элементов чере рекурсию\n",
    "\n",
    "def sum(lst):\n",
    "    if lst == []:\n",
    "        return 0\n",
    "    return lst[0] + sum(lst[1:])"
   ]
  },
  {
   "cell_type": "code",
   "execution_count": 3,
   "id": "12b59d23",
   "metadata": {},
   "outputs": [
    {
     "data": {
      "text/plain": [
       "3"
      ]
     },
     "execution_count": 3,
     "metadata": {},
     "output_type": "execute_result"
    }
   ],
   "source": [
    "sum([3])"
   ]
  },
  {
   "cell_type": "code",
   "execution_count": 34,
   "id": "4f464dd2",
   "metadata": {},
   "outputs": [],
   "source": [
    "def elementwise_multiplication(vec_a, vec_b):\n",
    "    \n",
    "    assert(len(vec_a) == len(vec_b))\n",
    "    multiply = []\n",
    "    \n",
    "    for i in range(len(vec_a)):\n",
    "        \n",
    "        multiply.append(vec_a[i] * vec_b[i])\n",
    "        \n",
    "    return multiply"
   ]
  },
  {
   "cell_type": "code",
   "execution_count": 35,
   "id": "4c515ac2",
   "metadata": {},
   "outputs": [
    {
     "data": {
      "text/plain": [
       "[2, 6, 12]"
      ]
     },
     "execution_count": 35,
     "metadata": {},
     "output_type": "execute_result"
    }
   ],
   "source": [
    "vec_a = [1,2,3,]\n",
    "vec_b = [2,3,4,]\n",
    "\n",
    "elementwise_multiplication(vec_a, vec_b)"
   ]
  },
  {
   "cell_type": "code",
   "execution_count": 27,
   "id": "62e9ac71",
   "metadata": {},
   "outputs": [],
   "source": [
    "def elementwise_addition(vec_a, vec_b):\n",
    "    \n",
    "    assert(len(vec_a) == len(vec_b))\n",
    "    sum = []\n",
    "    \n",
    "    for i in range(len(vec_a)):\n",
    "        \n",
    "        sum.append(vec_a[i] + vec_b[i])\n",
    "        \n",
    "    return sum"
   ]
  },
  {
   "cell_type": "code",
   "execution_count": 36,
   "id": "dd160837",
   "metadata": {},
   "outputs": [
    {
     "data": {
      "text/plain": [
       "[3, 10, 8]"
      ]
     },
     "execution_count": 36,
     "metadata": {},
     "output_type": "execute_result"
    }
   ],
   "source": [
    "vec_a = [1,2,3,]\n",
    "vec_b = [2,8,5,]\n",
    "\n",
    "elementwise_addtion(vec_a, vec_b)"
   ]
  },
  {
   "cell_type": "code",
   "execution_count": 37,
   "id": "d554e36a",
   "metadata": {},
   "outputs": [],
   "source": [
    "def vector_sum(vec_a):\n",
    "    \n",
    "    vec_sum = 0\n",
    "    \n",
    "    for elem in vec_a:\n",
    "    \n",
    "        vec_sum += elem\n",
    "        \n",
    "    return vec_sum"
   ]
  },
  {
   "cell_type": "code",
   "execution_count": 16,
   "id": "6fd3dda9",
   "metadata": {},
   "outputs": [
    {
     "data": {
      "text/plain": [
       "6"
      ]
     },
     "execution_count": 16,
     "metadata": {},
     "output_type": "execute_result"
    }
   ],
   "source": [
    "vector_sum(vec_a)"
   ]
  },
  {
   "cell_type": "code",
   "execution_count": 21,
   "id": "e5188f6b",
   "metadata": {},
   "outputs": [],
   "source": [
    "def vector_average(vec_a):\n",
    "    \n",
    "    vec_ave = vector_sum(vec_a)/len(vec_a)\n",
    "        \n",
    "    return vec_ave"
   ]
  },
  {
   "cell_type": "code",
   "execution_count": 22,
   "id": "7a86af0d",
   "metadata": {},
   "outputs": [
    {
     "data": {
      "text/plain": [
       "5.0"
      ]
     },
     "execution_count": 22,
     "metadata": {},
     "output_type": "execute_result"
    }
   ],
   "source": [
    "vector_average(vec_b)"
   ]
  },
  {
   "cell_type": "code",
   "execution_count": 38,
   "id": "b668d2f3",
   "metadata": {},
   "outputs": [
    {
     "data": {
      "text/plain": [
       "33"
      ]
     },
     "execution_count": 38,
     "metadata": {},
     "output_type": "execute_result"
    }
   ],
   "source": [
    "scalar = vector_sum(elementwise_multiplication(vec_a, vec_b))\n",
    "scalar"
   ]
  },
  {
   "cell_type": "code",
   "execution_count": 63,
   "id": "55ab19c4",
   "metadata": {},
   "outputs": [],
   "source": [
    "weights = [[0.1,0.1,-0.3],\n",
    "           [0.1,0.2, 0.0],\n",
    "           [0.0, 1.3,0.1]]"
   ]
  },
  {
   "cell_type": "code",
   "execution_count": 64,
   "id": "6ac3e653",
   "metadata": {},
   "outputs": [],
   "source": [
    "def w_sum(a,b):\n",
    "    \n",
    "    assert(len(a) == len(b))\n",
    "    output = 0\n",
    "    \n",
    "    for i in range(len(a)):\n",
    "        output += a[i]*b[i]\n",
    "    \n",
    "    return output"
   ]
  },
  {
   "cell_type": "code",
   "execution_count": 65,
   "id": "28211f8d",
   "metadata": {},
   "outputs": [],
   "source": [
    "#vect = inp = [игр, побед, болельщиков] = [8.5, 0.65, 1.2]\n",
    "\n",
    "def vect_mat_mul(vect, weights):\n",
    "    \n",
    "    assert(len(vect) == len(weights))\n",
    "    output = [0,0,0]\n",
    "    \n",
    "    for i in range(len(vect)):\n",
    "        output[i] = w_sum(vect, weights[i])\n",
    "        \n",
    "    return output"
   ]
  },
  {
   "cell_type": "code",
   "execution_count": 66,
   "id": "50bcc98f",
   "metadata": {},
   "outputs": [],
   "source": [
    "def neural_network(inp, weights):\n",
    "    \n",
    "    pred = vect_mat_mul(inp, weights)\n",
    "    \n",
    "    return pred"
   ]
  },
  {
   "cell_type": "code",
   "execution_count": 67,
   "id": "8dc9074b",
   "metadata": {},
   "outputs": [
    {
     "data": {
      "text/plain": [
       "[0.555, 0.9800000000000001, 0.9650000000000001]"
      ]
     },
     "execution_count": 67,
     "metadata": {},
     "output_type": "execute_result"
    }
   ],
   "source": [
    "vect = [8.5, 0.65, 1.2]\n",
    "\n",
    "neural_network(vect, weights)"
   ]
  },
  {
   "cell_type": "code",
   "execution_count": 75,
   "id": "226608bc",
   "metadata": {},
   "outputs": [
    {
     "ename": "IndentationError",
     "evalue": "unexpected indent (3681425498.py, line 9)",
     "output_type": "error",
     "traceback": [
      "\u001b[0;36m  File \u001b[0;32m\"/var/folders/p9/pc358jx9381btqf0gccr9c4m0000gn/T/ipykernel_849/3681425498.py\"\u001b[0;36m, line \u001b[0;32m9\u001b[0m\n\u001b[0;31m    prediction = weight*input\u001b[0m\n\u001b[0m    ^\u001b[0m\n\u001b[0;31mIndentationError\u001b[0m\u001b[0;31m:\u001b[0m unexpected indent\n"
     ]
    }
   ],
   "source": [
    "weight = 0.5\n",
    "input = 0.5\n",
    "goal_prediction = 0.8\n",
    "\n",
    "step_amount = 0.001\n",
    "\n",
    "for iteration in range(1101):\n",
    "    \n",
    "    prediction = weight*input\n",
    "    error = (prediction - goal_prediction) ** 2\n",
    "    \n",
    "    print(\"Error:\" + str(error) + \" Prediction:\" + str(prediction))\n",
    "    \n",
    "    up_prediction = input * (weight + step_amount)\n",
    "    up_error = (goal_prediction - up_prediction) ** 2\n",
    "    \n",
    "    down_prediction = input * (weight - step_amount)\n",
    "    down_error = (goal_prediction - down_prediction) ** 2\n",
    "    \n",
    "    if (down_error < up_error):\n",
    "        weight = weight - step_amount\n",
    "    if (down_error > up_error):\n",
    "        weight = weight + step_amount"
   ]
  },
  {
   "cell_type": "code",
   "execution_count": 89,
   "id": "db53090d",
   "metadata": {},
   "outputs": [
    {
     "name": "stdout",
     "output_type": "stream",
     "text": [
      "Error:0.30250000000000005 Prediction: 0.25   Weight: 0.775\n",
      "Error:0.17015625000000004 Prediction: 0.3875   Weight: 0.9812500000000001\n",
      "Error:0.095712890625 Prediction: 0.49062500000000003   Weight: 1.1359375\n",
      "Error:0.05383850097656251 Prediction: 0.56796875   Weight: 1.251953125\n",
      "Error:0.03028415679931642 Prediction: 0.6259765625   Weight: 1.33896484375\n",
      "Error:0.0170348381996155 Prediction: 0.669482421875   Weight: 1.4042236328125\n",
      "Error:0.00958209648728372 Prediction: 0.70211181640625   Weight: 1.453167724609375\n",
      "Error:0.005389929274097089 Prediction: 0.7265838623046875   Weight: 1.4898757934570312\n",
      "Error:0.0030318352166796153 Prediction: 0.7449378967285156   Weight: 1.5174068450927733\n",
      "Error:0.0017054073093822882 Prediction: 0.7587034225463867   Weight: 1.53805513381958\n",
      "Error:0.0009592916115275371 Prediction: 0.76902756690979   Weight: 1.553541350364685\n",
      "Error:0.0005396015314842384 Prediction: 0.7767706751823426   Weight: 1.5651560127735138\n",
      "Error:0.000303525861459885 Prediction: 0.7825780063867569   Weight: 1.5738670095801353\n",
      "Error:0.00017073329707118678 Prediction: 0.7869335047900676   Weight: 1.5804002571851015\n",
      "Error:9.603747960254256e-05 Prediction: 0.7902001285925507   Weight: 1.5853001928888262\n",
      "Error:5.402108227642978e-05 Prediction: 0.7926500964444131   Weight: 1.5889751446666196\n",
      "Error:3.038685878049206e-05 Prediction: 0.7944875723333098   Weight: 1.5917313584999646\n",
      "Error:1.7092608064027242e-05 Prediction: 0.7958656792499823   Weight: 1.5937985188749735\n",
      "Error:9.614592036015323e-06 Prediction: 0.7968992594374867   Weight: 1.5953488891562302\n",
      "Error:5.408208020258491e-06 Prediction: 0.7976744445781151   Weight: 1.5965116668671726\n"
     ]
    }
   ],
   "source": [
    "weight = 0.5\n",
    "goal_pred = 0.8\n",
    "input = 0.5\n",
    "\n",
    "for iteration in range(20):\n",
    "    \n",
    "    pred = input * weight\n",
    "    error = (pred - goal_pred) ** 2\n",
    "    direction_amount = (pred - goal_pred) * input\n",
    "    weight = weight - direction_amount\n",
    "    \n",
    "    print(\"Error:\" + str(error) + \" Prediction: \" + str(pred) + \"   Weight: \" + str(weight))"
   ]
  },
  {
   "cell_type": "code",
   "execution_count": 91,
   "id": "d610fae9",
   "metadata": {},
   "outputs": [
    {
     "name": "stdout",
     "output_type": "stream",
     "text": [
      "Error: 0.6400000000000001 Weight:0.8800000000000001 Prediction: 0.0\n",
      "Error: 0.02822400000000005 Weight:0.6951999999999999 Prediction: 0.9680000000000002\n",
      "Error: 0.0012446784000000064 Weight:0.734008 Prediction: 0.76472\n",
      "Error: 5.4890317439999896e-05 Weight:0.72585832 Prediction: 0.8074088\n"
     ]
    }
   ],
   "source": [
    "weight = 0\n",
    "goal_pred = 0.8\n",
    "input = 1.1\n",
    "\n",
    "for iteration in range(4):\n",
    "    pred = input * weight\n",
    "    error = (pred - goal_pred) ** 2\n",
    "    delta = pred - goal_pred\n",
    "    weight_delta = delta * input\n",
    "    weight = weight - weight_delta\n",
    "    \n",
    "    print(\"Error: \" + str(error) + \" Weight:\" + str(weight) + \" Prediction: \" + str(pred))"
   ]
  },
  {
   "cell_type": "code",
   "execution_count": null,
   "id": "fec647b1",
   "metadata": {},
   "outputs": [],
   "source": []
  },
  {
   "cell_type": "code",
   "execution_count": null,
   "id": "749b366b",
   "metadata": {},
   "outputs": [],
   "source": []
  },
  {
   "cell_type": "code",
   "execution_count": null,
   "id": "450ae7a1",
   "metadata": {},
   "outputs": [],
   "source": []
  },
  {
   "cell_type": "code",
   "execution_count": null,
   "id": "5ceead70",
   "metadata": {},
   "outputs": [],
   "source": []
  },
  {
   "cell_type": "code",
   "execution_count": null,
   "id": "6682c6c0",
   "metadata": {},
   "outputs": [],
   "source": []
  },
  {
   "cell_type": "code",
   "execution_count": null,
   "id": "447b3568",
   "metadata": {},
   "outputs": [],
   "source": []
  },
  {
   "cell_type": "code",
   "execution_count": null,
   "id": "41f86b2b",
   "metadata": {},
   "outputs": [],
   "source": []
  },
  {
   "cell_type": "code",
   "execution_count": null,
   "id": "34a512eb",
   "metadata": {},
   "outputs": [],
   "source": []
  },
  {
   "cell_type": "code",
   "execution_count": null,
   "id": "880699b1",
   "metadata": {},
   "outputs": [],
   "source": []
  },
  {
   "cell_type": "code",
   "execution_count": null,
   "id": "83a83daa",
   "metadata": {},
   "outputs": [],
   "source": []
  },
  {
   "cell_type": "code",
   "execution_count": null,
   "id": "520b2040",
   "metadata": {},
   "outputs": [],
   "source": []
  }
 ],
 "metadata": {
  "kernelspec": {
   "display_name": "Python 3 (ipykernel)",
   "language": "python",
   "name": "python3"
  },
  "language_info": {
   "codemirror_mode": {
    "name": "ipython",
    "version": 3
   },
   "file_extension": ".py",
   "mimetype": "text/x-python",
   "name": "python",
   "nbconvert_exporter": "python",
   "pygments_lexer": "ipython3",
   "version": "3.9.6"
  }
 },
 "nbformat": 4,
 "nbformat_minor": 5
}
